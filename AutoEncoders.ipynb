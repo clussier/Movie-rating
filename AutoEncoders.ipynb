{
  "nbformat": 4,
  "nbformat_minor": 0,
  "metadata": {
    "colab": {
      "name": "AutoEncoders.ipynb",
      "provenance": [],
      "collapsed_sections": []
    },
    "kernelspec": {
      "name": "python3",
      "display_name": "Python 3"
    },
    "accelerator": "GPU"
  },
  "cells": [
    {
      "cell_type": "markdown",
      "metadata": {
        "id": "K4f4JG1gdKqj"
      },
      "source": [
        "#AutoEncoders"
      ]
    },
    {
      "cell_type": "markdown",
      "metadata": {
        "id": "1jbiqOK7dLGG"
      },
      "source": [
        "##Downloading the dataset"
      ]
    },
    {
      "cell_type": "markdown",
      "metadata": {
        "id": "XL5MEkLcfRD2"
      },
      "source": [
        "###ML-100K"
      ]
    },
    {
      "cell_type": "code",
      "metadata": {
        "id": "rjOPzue7FCXJ",
        "colab": {
          "base_uri": "https://localhost:8080/"
        },
        "outputId": "485d75b6-e5d9-4298-b3e5-c2185b897113"
      },
      "source": [
        "!wget \"http://files.grouplens.org/datasets/movielens/ml-100k.zip\"\n",
        "!unzip ml-100k.zip\n",
        "!ls"
      ],
      "execution_count": 5,
      "outputs": [
        {
          "output_type": "stream",
          "text": [
            "--2021-07-21 22:48:35--  http://files.grouplens.org/datasets/movielens/ml-100k.zip\n",
            "Resolving files.grouplens.org (files.grouplens.org)... 128.101.65.152\n",
            "Connecting to files.grouplens.org (files.grouplens.org)|128.101.65.152|:80... connected.\n",
            "HTTP request sent, awaiting response... 200 OK\n",
            "Length: 4924029 (4.7M) [application/zip]\n",
            "Saving to: ‘ml-100k.zip’\n",
            "\n",
            "ml-100k.zip         100%[===================>]   4.70M  10.7MB/s    in 0.4s    \n",
            "\n",
            "2021-07-21 22:48:36 (10.7 MB/s) - ‘ml-100k.zip’ saved [4924029/4924029]\n",
            "\n",
            "Archive:  ml-100k.zip\n",
            "   creating: ml-100k/\n",
            "  inflating: ml-100k/allbut.pl       \n",
            "  inflating: ml-100k/mku.sh          \n",
            "  inflating: ml-100k/README          \n",
            "  inflating: ml-100k/u.data          \n",
            "  inflating: ml-100k/u.genre         \n",
            "  inflating: ml-100k/u.info          \n",
            "  inflating: ml-100k/u.item          \n",
            "  inflating: ml-100k/u.occupation    \n",
            "  inflating: ml-100k/u.user          \n",
            "  inflating: ml-100k/u1.base         \n",
            "  inflating: ml-100k/u1.test         \n",
            "  inflating: ml-100k/u2.base         \n",
            "  inflating: ml-100k/u2.test         \n",
            "  inflating: ml-100k/u3.base         \n",
            "  inflating: ml-100k/u3.test         \n",
            "  inflating: ml-100k/u4.base         \n",
            "  inflating: ml-100k/u4.test         \n",
            "  inflating: ml-100k/u5.base         \n",
            "  inflating: ml-100k/u5.test         \n",
            "  inflating: ml-100k/ua.base         \n",
            "  inflating: ml-100k/ua.test         \n",
            "  inflating: ml-100k/ub.base         \n",
            "  inflating: ml-100k/ub.test         \n",
            "ml-100k  ml-100k.zip  sample_data\n"
          ],
          "name": "stdout"
        }
      ]
    },
    {
      "cell_type": "markdown",
      "metadata": {
        "id": "9Xis6ldDfTs6"
      },
      "source": [
        "###ML-1M"
      ]
    },
    {
      "cell_type": "code",
      "metadata": {
        "id": "LOly1yfAfTjd",
        "colab": {
          "base_uri": "https://localhost:8080/"
        },
        "outputId": "85873cd9-a4f1-402a-9352-1db966470d82"
      },
      "source": [
        "!wget \"http://files.grouplens.org/datasets/movielens/ml-1m.zip\"\n",
        "!unzip ml-1m.zip\n",
        "!ls"
      ],
      "execution_count": 6,
      "outputs": [
        {
          "output_type": "stream",
          "text": [
            "--2021-07-21 22:48:37--  http://files.grouplens.org/datasets/movielens/ml-1m.zip\n",
            "Resolving files.grouplens.org (files.grouplens.org)... 128.101.65.152\n",
            "Connecting to files.grouplens.org (files.grouplens.org)|128.101.65.152|:80... connected.\n",
            "HTTP request sent, awaiting response... 200 OK\n",
            "Length: 5917549 (5.6M) [application/zip]\n",
            "Saving to: ‘ml-1m.zip’\n",
            "\n",
            "ml-1m.zip           100%[===================>]   5.64M  12.8MB/s    in 0.4s    \n",
            "\n",
            "2021-07-21 22:48:38 (12.8 MB/s) - ‘ml-1m.zip’ saved [5917549/5917549]\n",
            "\n",
            "Archive:  ml-1m.zip\n",
            "   creating: ml-1m/\n",
            "  inflating: ml-1m/movies.dat        \n",
            "  inflating: ml-1m/ratings.dat       \n",
            "  inflating: ml-1m/README            \n",
            "  inflating: ml-1m/users.dat         \n",
            "ml-100k  ml-100k.zip  ml-1m  ml-1m.zip\tsample_data\n"
          ],
          "name": "stdout"
        }
      ]
    },
    {
      "cell_type": "markdown",
      "metadata": {
        "id": "EOBJ8UCXdY0g"
      },
      "source": [
        "##Importing the libraries"
      ]
    },
    {
      "cell_type": "code",
      "metadata": {
        "id": "_LvGeU1CeCtg"
      },
      "source": [
        "import numpy as np\n",
        "import pandas as pd\n",
        "import torch\n",
        "import torch.nn as nn\n",
        "import torch.nn.parallel\n",
        "import torch.optim as optim\n",
        "import torch.utils.data\n",
        "from torch.autograd import Variable"
      ],
      "execution_count": 25,
      "outputs": []
    },
    {
      "cell_type": "code",
      "metadata": {
        "colab": {
          "base_uri": "https://localhost:8080/"
        },
        "id": "rlOIRphOQT1p",
        "outputId": "404e2e7c-37b9-46bf-8a71-19a72caa1af6"
      },
      "source": [
        "from google.colab import drive\n",
        "drive.mount('/content/drive')"
      ],
      "execution_count": 26,
      "outputs": [
        {
          "output_type": "stream",
          "text": [
            "Drive already mounted at /content/drive; to attempt to forcibly remount, call drive.mount(\"/content/drive\", force_remount=True).\n"
          ],
          "name": "stdout"
        }
      ]
    },
    {
      "cell_type": "markdown",
      "metadata": {
        "id": "pM04FyMudkoK"
      },
      "source": [
        "## Importing the dataset\n"
      ]
    },
    {
      "cell_type": "code",
      "metadata": {
        "id": "UJw2p3-Cewo4"
      },
      "source": [
        "# We won't be using this dataset.\n",
        "movies = pd.read_csv('ml-1m/movies.dat', sep = '::', header = None, engine = 'python', encoding = 'latin-1')\n",
        "users = pd.read_csv('ml-1m/users.dat', sep = '::', header = None, engine = 'python', encoding = 'latin-1')\n",
        "ratings = pd.read_csv('ml-1m/ratings.dat', sep = '::', header = None, engine = 'python', encoding = 'latin-1')"
      ],
      "execution_count": 27,
      "outputs": []
    },
    {
      "cell_type": "markdown",
      "metadata": {
        "id": "yTIbE2tkdkwP"
      },
      "source": [
        "## Preparing the training set and the test set\n"
      ]
    },
    {
      "cell_type": "code",
      "metadata": {
        "id": "9CbN0vuIp3BL"
      },
      "source": [
        "training_set = pd.read_csv('ml-100k/u1.base', delimiter = '\\t')\n",
        "training_set = np.array(training_set, dtype='int')\n",
        "test_set = pd.read_csv('ml-100k/u1.test', delimiter = '\\t')\n",
        "test_set = np.array(test_set, dtype='int')"
      ],
      "execution_count": 28,
      "outputs": []
    },
    {
      "cell_type": "markdown",
      "metadata": {
        "id": "zCf8HjSydk4s"
      },
      "source": [
        "## Getting the number of users and movies\n"
      ]
    },
    {
      "cell_type": "code",
      "metadata": {
        "id": "NmgwbJfoBspa"
      },
      "source": [
        "nb_users = int(max(max(training_set[:, 0], ), max(test_set[:, 0])))\n",
        "nb_movies = int(max(max(training_set[:, 1], ), max(test_set[:, 1])))"
      ],
      "execution_count": 29,
      "outputs": []
    },
    {
      "cell_type": "markdown",
      "metadata": {
        "id": "J-w4-hVidlAm"
      },
      "source": [
        "## Converting the data into an array with users in lines and movies in columns\n"
      ]
    },
    {
      "cell_type": "code",
      "metadata": {
        "id": "3SZ7-OPRDq_e"
      },
      "source": [
        "def convert(data):\n",
        "  new_data = []\n",
        "  for id_users in range(1, nb_users + 1):\n",
        "    id_movies = data[:, 1] [data[:, 0] == id_users]\n",
        "    id_ratings = data[:, 2] [data[:, 0] == id_users]\n",
        "    ratings = np.zeros(nb_movies)\n",
        "    ratings[id_movies - 1] = id_ratings\n",
        "    new_data.append(list(ratings))\n",
        "  return new_data\n",
        "training_set = convert(training_set)\n",
        "test_set = convert(test_set)"
      ],
      "execution_count": 30,
      "outputs": []
    },
    {
      "cell_type": "markdown",
      "metadata": {
        "id": "AMmhuUpldlHo"
      },
      "source": [
        "## Converting the data into Torch tensors\n"
      ]
    },
    {
      "cell_type": "code",
      "metadata": {
        "id": "AnJCZBMkGDJE"
      },
      "source": [
        "training_set = torch.FloatTensor(training_set)\n",
        "test_set = torch.FloatTensor(test_set)"
      ],
      "execution_count": 31,
      "outputs": []
    },
    {
      "cell_type": "markdown",
      "metadata": {
        "id": "6kkL8NkkdlZj"
      },
      "source": [
        "## Creating the architecture of the Neural Network\n"
      ]
    },
    {
      "cell_type": "code",
      "metadata": {
        "id": "2w77svpTHWuY"
      },
      "source": [
        "class SAE(nn.Module):\n",
        "  def __init__(self, ):\n",
        "    super(SAE, self).__init__()\n",
        "    # full connection 1 (encoding)\n",
        "    self.fc1 = nn.Linear(nb_movies, 50)\n",
        "    # full connection 2 (encoding)\n",
        "    self.fc2 = nn.Linear(50, 10)\n",
        "    # full connection 3 (decoding)\n",
        "    self.fc3 = nn.Linear(10, 50)\n",
        "    # full connection 4 (decoding)\n",
        "    self.fc4 = nn.Linear(50, nb_movies)\n",
        "    self.activation = nn.Sigmoid()\n",
        "  def forward(self, x):\n",
        "    x = self.activation(self.fc1(x))\n",
        "    x = self.activation(self.fc2(x))\n",
        "    x = self.activation(self.fc3(x))\n",
        "    x = self.fc4(x)\n",
        "    return x\n",
        "\n",
        "\n",
        "sae = SAE()\n",
        "criterion = nn.MSELoss()\n",
        "optimizer = optim.RMSprop(sae.parameters(), lr = 0.01, weight_decay = 0.5)"
      ],
      "execution_count": 32,
      "outputs": []
    },
    {
      "cell_type": "markdown",
      "metadata": {
        "id": "7gy59alAdloL"
      },
      "source": [
        "## Training the SAE\n"
      ]
    },
    {
      "cell_type": "code",
      "metadata": {
        "colab": {
          "base_uri": "https://localhost:8080/"
        },
        "id": "bBKvluWXLLyN",
        "outputId": "345f55c1-5ef4-496e-ae95-07a0a8a24dba"
      },
      "source": [
        "\n",
        "nb_epoch = 300\n",
        "for epoch in range(1, nb_epoch + 1):\n",
        "  train_loss = 0\n",
        "  s = 0.\n",
        "  for id_user in range(nb_users):\n",
        "    # create batch with a single input vector\n",
        "    input = Variable(training_set[id_user]).unsqueeze(0) # add a dimension to represent batch so pytorch accepts it\n",
        "    target = input.clone()\n",
        "    if torch.sum(target.data > 0) > 0:    \n",
        "      output = sae(input)\n",
        "      # optomize the code\n",
        "      target.require_grad = False \n",
        "      output[target == 0] = 0\n",
        "      # compute the loss\n",
        "      loss = criterion(output, target)\n",
        "      mean_corrector = nb_movies/float(torch.sum(target.data > 0) + 1e-10)\n",
        "      loss.backward() # decides direction of update\n",
        "      train_loss += np.sqrt(loss.data*mean_corrector)\n",
        "      s += 1.\n",
        "      optimizer.step() # decides the intensity of update\n",
        "  print('epoch: ' + str(epoch) + ' loss: ' + str(train_loss/s))"
      ],
      "execution_count": 33,
      "outputs": [
        {
          "output_type": "stream",
          "text": [
            "epoch: 1 loss: tensor(1.5178)\n",
            "epoch: 2 loss: tensor(1.0816)\n",
            "epoch: 3 loss: tensor(1.0673)\n",
            "epoch: 4 loss: tensor(1.0610)\n",
            "epoch: 5 loss: tensor(1.0585)\n",
            "epoch: 6 loss: tensor(1.0549)\n",
            "epoch: 7 loss: tensor(1.0498)\n",
            "epoch: 8 loss: tensor(1.0473)\n",
            "epoch: 9 loss: tensor(1.0430)\n",
            "epoch: 10 loss: tensor(1.0429)\n",
            "epoch: 11 loss: tensor(1.0369)\n",
            "epoch: 12 loss: tensor(1.0375)\n",
            "epoch: 13 loss: tensor(1.0308)\n",
            "epoch: 14 loss: tensor(1.0320)\n",
            "epoch: 15 loss: tensor(1.0265)\n",
            "epoch: 16 loss: tensor(1.0257)\n",
            "epoch: 17 loss: tensor(1.0198)\n",
            "epoch: 18 loss: tensor(1.0196)\n",
            "epoch: 19 loss: tensor(1.0162)\n",
            "epoch: 20 loss: tensor(1.0168)\n",
            "epoch: 21 loss: tensor(1.0115)\n",
            "epoch: 22 loss: tensor(1.0137)\n",
            "epoch: 23 loss: tensor(1.0067)\n",
            "epoch: 24 loss: tensor(1.0115)\n",
            "epoch: 25 loss: tensor(1.0066)\n",
            "epoch: 26 loss: tensor(1.0057)\n",
            "epoch: 27 loss: tensor(1.0009)\n",
            "epoch: 28 loss: tensor(1.0004)\n",
            "epoch: 29 loss: tensor(0.9979)\n",
            "epoch: 30 loss: tensor(1.0006)\n",
            "epoch: 31 loss: tensor(0.9954)\n",
            "epoch: 32 loss: tensor(0.9977)\n",
            "epoch: 33 loss: tensor(0.9907)\n",
            "epoch: 34 loss: tensor(0.9992)\n",
            "epoch: 35 loss: tensor(0.9882)\n",
            "epoch: 36 loss: tensor(0.9983)\n",
            "epoch: 37 loss: tensor(0.9838)\n",
            "epoch: 38 loss: tensor(0.9879)\n",
            "epoch: 39 loss: tensor(0.9808)\n",
            "epoch: 40 loss: tensor(0.9813)\n",
            "epoch: 41 loss: tensor(0.9762)\n",
            "epoch: 42 loss: tensor(0.9767)\n",
            "epoch: 43 loss: tensor(0.9724)\n",
            "epoch: 44 loss: tensor(0.9732)\n",
            "epoch: 45 loss: tensor(0.9698)\n",
            "epoch: 46 loss: tensor(0.9697)\n",
            "epoch: 47 loss: tensor(0.9656)\n",
            "epoch: 48 loss: tensor(0.9660)\n",
            "epoch: 49 loss: tensor(0.9695)\n",
            "epoch: 50 loss: tensor(0.9702)\n",
            "epoch: 51 loss: tensor(0.9672)\n",
            "epoch: 52 loss: tensor(0.9662)\n",
            "epoch: 53 loss: tensor(0.9629)\n",
            "epoch: 54 loss: tensor(0.9630)\n",
            "epoch: 55 loss: tensor(0.9620)\n",
            "epoch: 56 loss: tensor(0.9624)\n",
            "epoch: 57 loss: tensor(0.9598)\n",
            "epoch: 58 loss: tensor(0.9600)\n",
            "epoch: 59 loss: tensor(0.9570)\n",
            "epoch: 60 loss: tensor(0.9577)\n",
            "epoch: 61 loss: tensor(0.9547)\n",
            "epoch: 62 loss: tensor(0.9538)\n",
            "epoch: 63 loss: tensor(0.9529)\n",
            "epoch: 64 loss: tensor(0.9518)\n",
            "epoch: 65 loss: tensor(0.9503)\n",
            "epoch: 66 loss: tensor(0.9505)\n",
            "epoch: 67 loss: tensor(0.9489)\n",
            "epoch: 68 loss: tensor(0.9487)\n",
            "epoch: 69 loss: tensor(0.9468)\n",
            "epoch: 70 loss: tensor(0.9474)\n",
            "epoch: 71 loss: tensor(0.9491)\n",
            "epoch: 72 loss: tensor(0.9456)\n",
            "epoch: 73 loss: tensor(0.9443)\n",
            "epoch: 74 loss: tensor(0.9436)\n",
            "epoch: 75 loss: tensor(0.9431)\n",
            "epoch: 76 loss: tensor(0.9428)\n",
            "epoch: 77 loss: tensor(0.9426)\n",
            "epoch: 78 loss: tensor(0.9422)\n",
            "epoch: 79 loss: tensor(0.9404)\n",
            "epoch: 80 loss: tensor(0.9404)\n",
            "epoch: 81 loss: tensor(0.9395)\n",
            "epoch: 82 loss: tensor(0.9403)\n",
            "epoch: 83 loss: tensor(0.9391)\n",
            "epoch: 84 loss: tensor(0.9388)\n",
            "epoch: 85 loss: tensor(0.9372)\n",
            "epoch: 86 loss: tensor(0.9378)\n",
            "epoch: 87 loss: tensor(0.9363)\n",
            "epoch: 88 loss: tensor(0.9367)\n",
            "epoch: 89 loss: tensor(0.9353)\n",
            "epoch: 90 loss: tensor(0.9355)\n",
            "epoch: 91 loss: tensor(0.9343)\n",
            "epoch: 92 loss: tensor(0.9350)\n",
            "epoch: 93 loss: tensor(0.9333)\n",
            "epoch: 94 loss: tensor(0.9339)\n",
            "epoch: 95 loss: tensor(0.9321)\n",
            "epoch: 96 loss: tensor(0.9330)\n",
            "epoch: 97 loss: tensor(0.9313)\n",
            "epoch: 98 loss: tensor(0.9321)\n",
            "epoch: 99 loss: tensor(0.9306)\n",
            "epoch: 100 loss: tensor(0.9310)\n",
            "epoch: 101 loss: tensor(0.9294)\n",
            "epoch: 102 loss: tensor(0.9305)\n",
            "epoch: 103 loss: tensor(0.9291)\n",
            "epoch: 104 loss: tensor(0.9292)\n",
            "epoch: 105 loss: tensor(0.9279)\n",
            "epoch: 106 loss: tensor(0.9287)\n",
            "epoch: 107 loss: tensor(0.9274)\n",
            "epoch: 108 loss: tensor(0.9277)\n",
            "epoch: 109 loss: tensor(0.9269)\n",
            "epoch: 110 loss: tensor(0.9268)\n",
            "epoch: 111 loss: tensor(0.9262)\n",
            "epoch: 112 loss: tensor(0.9262)\n",
            "epoch: 113 loss: tensor(0.9252)\n",
            "epoch: 114 loss: tensor(0.9252)\n",
            "epoch: 115 loss: tensor(0.9251)\n",
            "epoch: 116 loss: tensor(0.9248)\n",
            "epoch: 117 loss: tensor(0.9244)\n",
            "epoch: 118 loss: tensor(0.9238)\n",
            "epoch: 119 loss: tensor(0.9238)\n",
            "epoch: 120 loss: tensor(0.9234)\n",
            "epoch: 121 loss: tensor(0.9235)\n",
            "epoch: 122 loss: tensor(0.9229)\n",
            "epoch: 123 loss: tensor(0.9230)\n",
            "epoch: 124 loss: tensor(0.9224)\n",
            "epoch: 125 loss: tensor(0.9222)\n",
            "epoch: 126 loss: tensor(0.9219)\n",
            "epoch: 127 loss: tensor(0.9219)\n",
            "epoch: 128 loss: tensor(0.9211)\n",
            "epoch: 129 loss: tensor(0.9209)\n",
            "epoch: 130 loss: tensor(0.9207)\n",
            "epoch: 131 loss: tensor(0.9209)\n",
            "epoch: 132 loss: tensor(0.9203)\n",
            "epoch: 133 loss: tensor(0.9208)\n",
            "epoch: 134 loss: tensor(0.9200)\n",
            "epoch: 135 loss: tensor(0.9204)\n",
            "epoch: 136 loss: tensor(0.9196)\n",
            "epoch: 137 loss: tensor(0.9200)\n",
            "epoch: 138 loss: tensor(0.9190)\n",
            "epoch: 139 loss: tensor(0.9196)\n",
            "epoch: 140 loss: tensor(0.9188)\n",
            "epoch: 141 loss: tensor(0.9193)\n",
            "epoch: 142 loss: tensor(0.9186)\n",
            "epoch: 143 loss: tensor(0.9189)\n",
            "epoch: 144 loss: tensor(0.9180)\n",
            "epoch: 145 loss: tensor(0.9186)\n",
            "epoch: 146 loss: tensor(0.9175)\n",
            "epoch: 147 loss: tensor(0.9184)\n",
            "epoch: 148 loss: tensor(0.9169)\n",
            "epoch: 149 loss: tensor(0.9178)\n",
            "epoch: 150 loss: tensor(0.9168)\n",
            "epoch: 151 loss: tensor(0.9177)\n",
            "epoch: 152 loss: tensor(0.9163)\n",
            "epoch: 153 loss: tensor(0.9175)\n",
            "epoch: 154 loss: tensor(0.9159)\n",
            "epoch: 155 loss: tensor(0.9171)\n",
            "epoch: 156 loss: tensor(0.9154)\n",
            "epoch: 157 loss: tensor(0.9167)\n",
            "epoch: 158 loss: tensor(0.9152)\n",
            "epoch: 159 loss: tensor(0.9166)\n",
            "epoch: 160 loss: tensor(0.9149)\n",
            "epoch: 161 loss: tensor(0.9161)\n",
            "epoch: 162 loss: tensor(0.9146)\n",
            "epoch: 163 loss: tensor(0.9157)\n",
            "epoch: 164 loss: tensor(0.9143)\n",
            "epoch: 165 loss: tensor(0.9154)\n",
            "epoch: 166 loss: tensor(0.9141)\n",
            "epoch: 167 loss: tensor(0.9151)\n",
            "epoch: 168 loss: tensor(0.9136)\n",
            "epoch: 169 loss: tensor(0.9147)\n",
            "epoch: 170 loss: tensor(0.9134)\n",
            "epoch: 171 loss: tensor(0.9144)\n",
            "epoch: 172 loss: tensor(0.9128)\n",
            "epoch: 173 loss: tensor(0.9139)\n",
            "epoch: 174 loss: tensor(0.9127)\n",
            "epoch: 175 loss: tensor(0.9134)\n",
            "epoch: 176 loss: tensor(0.9123)\n",
            "epoch: 177 loss: tensor(0.9132)\n",
            "epoch: 178 loss: tensor(0.9121)\n",
            "epoch: 179 loss: tensor(0.9128)\n",
            "epoch: 180 loss: tensor(0.9116)\n",
            "epoch: 181 loss: tensor(0.9123)\n",
            "epoch: 182 loss: tensor(0.9113)\n",
            "epoch: 183 loss: tensor(0.9118)\n",
            "epoch: 184 loss: tensor(0.9108)\n",
            "epoch: 185 loss: tensor(0.9114)\n",
            "epoch: 186 loss: tensor(0.9104)\n",
            "epoch: 187 loss: tensor(0.9111)\n",
            "epoch: 188 loss: tensor(0.9099)\n",
            "epoch: 189 loss: tensor(0.9104)\n",
            "epoch: 190 loss: tensor(0.9095)\n",
            "epoch: 191 loss: tensor(0.9097)\n",
            "epoch: 192 loss: tensor(0.9089)\n",
            "epoch: 193 loss: tensor(0.9092)\n",
            "epoch: 194 loss: tensor(0.9082)\n",
            "epoch: 195 loss: tensor(0.9084)\n",
            "epoch: 196 loss: tensor(0.9075)\n",
            "epoch: 197 loss: tensor(0.9071)\n",
            "epoch: 198 loss: tensor(0.9059)\n",
            "epoch: 199 loss: tensor(0.9055)\n",
            "epoch: 200 loss: tensor(0.9046)\n",
            "epoch: 201 loss: tensor(0.9044)\n",
            "epoch: 202 loss: tensor(0.9027)\n",
            "epoch: 203 loss: tensor(0.9024)\n",
            "epoch: 204 loss: tensor(0.9012)\n",
            "epoch: 205 loss: tensor(0.9005)\n",
            "epoch: 206 loss: tensor(0.8993)\n",
            "epoch: 207 loss: tensor(0.8994)\n",
            "epoch: 208 loss: tensor(0.8979)\n",
            "epoch: 209 loss: tensor(0.8980)\n",
            "epoch: 210 loss: tensor(0.8965)\n",
            "epoch: 211 loss: tensor(0.8963)\n",
            "epoch: 212 loss: tensor(0.8951)\n",
            "epoch: 213 loss: tensor(0.8952)\n",
            "epoch: 214 loss: tensor(0.8940)\n",
            "epoch: 215 loss: tensor(0.8938)\n",
            "epoch: 216 loss: tensor(0.8923)\n",
            "epoch: 217 loss: tensor(0.8926)\n",
            "epoch: 218 loss: tensor(0.8912)\n",
            "epoch: 219 loss: tensor(0.8914)\n",
            "epoch: 220 loss: tensor(0.8899)\n",
            "epoch: 221 loss: tensor(0.8903)\n",
            "epoch: 222 loss: tensor(0.8889)\n",
            "epoch: 223 loss: tensor(0.8891)\n",
            "epoch: 224 loss: tensor(0.8879)\n",
            "epoch: 225 loss: tensor(0.8878)\n",
            "epoch: 226 loss: tensor(0.8875)\n",
            "epoch: 227 loss: tensor(0.8874)\n",
            "epoch: 228 loss: tensor(0.8858)\n",
            "epoch: 229 loss: tensor(0.8865)\n",
            "epoch: 230 loss: tensor(0.8857)\n",
            "epoch: 231 loss: tensor(0.8865)\n",
            "epoch: 232 loss: tensor(0.8850)\n",
            "epoch: 233 loss: tensor(0.8852)\n",
            "epoch: 234 loss: tensor(0.8840)\n",
            "epoch: 235 loss: tensor(0.8844)\n",
            "epoch: 236 loss: tensor(0.8830)\n",
            "epoch: 237 loss: tensor(0.8836)\n",
            "epoch: 238 loss: tensor(0.8820)\n",
            "epoch: 239 loss: tensor(0.8824)\n",
            "epoch: 240 loss: tensor(0.8810)\n",
            "epoch: 241 loss: tensor(0.8814)\n",
            "epoch: 242 loss: tensor(0.8802)\n",
            "epoch: 243 loss: tensor(0.8803)\n",
            "epoch: 244 loss: tensor(0.8795)\n",
            "epoch: 245 loss: tensor(0.8795)\n",
            "epoch: 246 loss: tensor(0.8787)\n",
            "epoch: 247 loss: tensor(0.8787)\n",
            "epoch: 248 loss: tensor(0.8778)\n",
            "epoch: 249 loss: tensor(0.8785)\n",
            "epoch: 250 loss: tensor(0.8776)\n",
            "epoch: 251 loss: tensor(0.8775)\n",
            "epoch: 252 loss: tensor(0.8772)\n",
            "epoch: 253 loss: tensor(0.8768)\n",
            "epoch: 254 loss: tensor(0.8766)\n",
            "epoch: 255 loss: tensor(0.8763)\n",
            "epoch: 256 loss: tensor(0.8755)\n",
            "epoch: 257 loss: tensor(0.8758)\n",
            "epoch: 258 loss: tensor(0.8749)\n",
            "epoch: 259 loss: tensor(0.8754)\n",
            "epoch: 260 loss: tensor(0.8743)\n",
            "epoch: 261 loss: tensor(0.8746)\n",
            "epoch: 262 loss: tensor(0.8737)\n",
            "epoch: 263 loss: tensor(0.8739)\n",
            "epoch: 264 loss: tensor(0.8731)\n",
            "epoch: 265 loss: tensor(0.8734)\n",
            "epoch: 266 loss: tensor(0.8722)\n",
            "epoch: 267 loss: tensor(0.8726)\n",
            "epoch: 268 loss: tensor(0.8718)\n",
            "epoch: 269 loss: tensor(0.8723)\n",
            "epoch: 270 loss: tensor(0.8712)\n",
            "epoch: 271 loss: tensor(0.8716)\n",
            "epoch: 272 loss: tensor(0.8711)\n",
            "epoch: 273 loss: tensor(0.8708)\n",
            "epoch: 274 loss: tensor(0.8706)\n",
            "epoch: 275 loss: tensor(0.8704)\n",
            "epoch: 276 loss: tensor(0.8700)\n",
            "epoch: 277 loss: tensor(0.8696)\n",
            "epoch: 278 loss: tensor(0.8688)\n",
            "epoch: 279 loss: tensor(0.8693)\n",
            "epoch: 280 loss: tensor(0.8682)\n",
            "epoch: 281 loss: tensor(0.8688)\n",
            "epoch: 282 loss: tensor(0.8680)\n",
            "epoch: 283 loss: tensor(0.8686)\n",
            "epoch: 284 loss: tensor(0.8674)\n",
            "epoch: 285 loss: tensor(0.8678)\n",
            "epoch: 286 loss: tensor(0.8667)\n",
            "epoch: 287 loss: tensor(0.8672)\n",
            "epoch: 288 loss: tensor(0.8662)\n",
            "epoch: 289 loss: tensor(0.8669)\n",
            "epoch: 290 loss: tensor(0.8660)\n",
            "epoch: 291 loss: tensor(0.8664)\n",
            "epoch: 292 loss: tensor(0.8653)\n",
            "epoch: 293 loss: tensor(0.8656)\n",
            "epoch: 294 loss: tensor(0.8647)\n",
            "epoch: 295 loss: tensor(0.8654)\n",
            "epoch: 296 loss: tensor(0.8643)\n",
            "epoch: 297 loss: tensor(0.8648)\n",
            "epoch: 298 loss: tensor(0.8640)\n",
            "epoch: 299 loss: tensor(0.8644)\n",
            "epoch: 300 loss: tensor(0.8636)\n"
          ],
          "name": "stdout"
        }
      ]
    },
    {
      "cell_type": "markdown",
      "metadata": {
        "id": "Bak5uc8gd-gX"
      },
      "source": [
        "## Testing the SAE\n"
      ]
    },
    {
      "cell_type": "code",
      "metadata": {
        "colab": {
          "base_uri": "https://localhost:8080/"
        },
        "id": "UHB6e32_YN7g",
        "outputId": "bd75f83b-53cf-4d9f-b1bd-8cf827b6ac47"
      },
      "source": [
        "test_loss = 0\n",
        "s = 0.\n",
        "for id_user in range(nb_users):\n",
        "  input = Variable(training_set[id_user]).unsqueeze(0)\n",
        "  target = Variable(test_set[id_user]).unsqueeze(0)\n",
        "  if torch.sum(target.data > 0) > 0:\n",
        "    output = sae(input)\n",
        "    target.require_grad = False\n",
        "    output[target == 0] = 0\n",
        "    loss = criterion(output, target)\n",
        "    mean_corrector = nb_movies/float(torch.sum(target.data > 0) + 1e-10)\n",
        "    test_loss += np.sqrt(loss.data*mean_corrector)\n",
        "    s += 1.\n",
        "print('test loss: '+str(test_loss/s))"
      ],
      "execution_count": 34,
      "outputs": [
        {
          "output_type": "stream",
          "text": [
            "test loss: tensor(0.9472)\n"
          ],
          "name": "stdout"
        }
      ]
    }
  ]
}